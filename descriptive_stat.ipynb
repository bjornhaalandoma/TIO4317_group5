{
  "nbformat": 4,
  "nbformat_minor": 0,
  "metadata": {
    "colab": {
      "provenance": [],
      "authorship_tag": "ABX9TyMO0IjJ6HYa3IdO6NjdPHw+",
      "include_colab_link": true
    },
    "kernelspec": {
      "name": "python3",
      "display_name": "Python 3"
    },
    "language_info": {
      "name": "python"
    }
  },
  "cells": [
    {
      "cell_type": "markdown",
      "metadata": {
        "id": "view-in-github",
        "colab_type": "text"
      },
      "source": [
        "<a href=\"https://colab.research.google.com/github/bjornhaalandoma/TIO4317_group5/blob/main/descriptive_stat.ipynb\" target=\"_parent\"><img src=\"https://colab.research.google.com/assets/colab-badge.svg\" alt=\"Open In Colab\"/></a>"
      ]
    },
    {
      "cell_type": "code",
      "source": [
        "import pandas as pd\n",
        "from tabulate import tabulate"
      ],
      "metadata": {
        "id": "foOK6ZpFLSlP"
      },
      "execution_count": 1,
      "outputs": []
    },
    {
      "cell_type": "code",
      "source": [
        "# Load the CSV files into DataFrames\n",
        "df_aker_bp = pd.read_csv(\"financial_data/Aker_BP_weekly.csv\")\n",
        "df_brent_crude = pd.read_csv(\"financial_data/Brent_Crude_weekly.csv\")\n",
        "df_cpi_rate = pd.read_csv(\"financial_data/CPI_Rate_weekly.csv\")\n",
        "df_natural_gas = pd.read_csv(\"financial_data/Natural_Gas_weekly.csv\")\n",
        "df_nok_usd = pd.read_csv(\"financial_data/NOK_USD_weekly.csv\")\n",
        "df_norwegian_policy_rate = pd.read_csv(\"financial_data/Norwegian_Policy_Rate_weekly.csv\")\n",
        "df_osebx = pd.read_csv(\"financial_data/OSEBX_weekly.csv\")\n",
        "df_us_treasury = pd.read_csv(\"financial_data/US_10Yr_Treasury_weekly.csv\")\n",
        "\n",
        "# Rename the conflicting columns (columns with the same names)\n",
        "df_aker_bp = df_aker_bp.rename(columns={'Log_Returns': 'Log_Returns_Aker_BP'})\n",
        "df_brent_crude = df_brent_crude.rename(columns={'Log_Returns': 'Log_Returns_Brent_Crude'})\n",
        "df_natural_gas = df_natural_gas.rename(columns={'Log_Returns': 'Log_Returns_Natural_Gas'})\n",
        "df_nok_usd = df_nok_usd.rename(columns={'Log_Returns': 'Log_Returns_NOK_USD'})\n",
        "df_osebx = df_osebx.rename(columns={'Log_Returns': 'Log_Returns_OSEBX'})\n",
        "df_us_treasury = df_us_treasury.rename(columns={'Log_Returns': 'Log_Returns_US_Treasury'})\n",
        "df_cpi_rate = df_cpi_rate.rename(columns={'Rate': 'CPI_Rate'})\n",
        "df_norwegian_policy_rate = df_norwegian_policy_rate.rename(columns={'Rate': 'Policy_Rate'})\n",
        "\n",
        "# Merge all the dataframes on 'Date'\n",
        "df = df_aker_bp[['Date', 'Log_Returns_Aker_BP']]\n",
        "df = pd.merge(df, df_brent_crude[['Date', 'Log_Returns_Brent_Crude']], on='Date', how='inner')\n",
        "df = pd.merge(df, df_cpi_rate[['Date', 'CPI_Rate']], on='Date', how='inner')\n",
        "df = pd.merge(df, df_natural_gas[['Date', 'Log_Returns_Natural_Gas']], on='Date', how='inner')\n",
        "df = pd.merge(df, df_nok_usd[['Date', 'Log_Returns_NOK_USD']], on='Date', how='inner')\n",
        "df = pd.merge(df, df_norwegian_policy_rate[['Date', 'Policy_Rate']], on='Date', how='inner')\n",
        "df = pd.merge(df, df_osebx[['Date', 'Log_Returns_OSEBX']], on='Date', how='inner')\n",
        "df = pd.merge(df, df_us_treasury[['Date', 'Log_Returns_US_Treasury']], on='Date', how='inner')\n",
        "\n",
        "#Descriptive statistics\n",
        "ds = df.describe()\n",
        "ds_table = tabulate(ds, headers=\"keys\", tablefmt=\"github\")\n",
        "print(ds_table)"
      ],
      "metadata": {
        "colab": {
          "base_uri": "https://localhost:8080/"
        },
        "id": "1d6fejrULcKG",
        "outputId": "f2d08809-be18-435d-db68-b3d2cbf94830"
      },
      "execution_count": 11,
      "outputs": [
        {
          "output_type": "stream",
          "name": "stdout",
          "text": [
            "|       |   Log_Returns_Aker_BP |   Log_Returns_Brent_Crude |   CPI_Rate |   Log_Returns_Natural_Gas |   Log_Returns_NOK_USD |   Policy_Rate |   Log_Returns_OSEBX |   Log_Returns_US_Treasury |\n",
            "|-------|-----------------------|---------------------------|------------|---------------------------|-----------------------|---------------|---------------------|---------------------------|\n",
            "| count |         581           |             581           | 581        |             581           |         581           |    581        |       581           |             581           |\n",
            "| mean  |           0.000576685 |              -0.000153473 |   0.373916 |              -0.000193243 |           0.000294889 |      0.429432 |         0.000464128 |               0.000150594 |\n",
            "| std   |           0.0126188   |               0.0106873   |   0.12611  |               0.0164953   |           0.00471315  |      1.42657  |         0.00471964  |               0.0125113   |\n",
            "| min   |          -0.126619    |              -0.0581411   |   0.111962 |              -0.068498    |          -0.0533224   |     -1        |        -0.0382082   |              -0.0935399   |\n",
            "| 25%   |          -0.00534554  |              -0.00534398  |   0.291994 |              -0.00879604  |          -0.00183748  |     -0.5      |        -0.0020333   |              -0.00668696  |\n",
            "| 50%   |           0.000457579 |               0.000463081 |   0.347809 |              -5.36082e-05 |           0.00025028  |     -0.25     |         0.00077636  |              -0.000333627 |\n",
            "| 75%   |           0.006851    |               0.00549728  |   0.449559 |               0.0100158   |           0.00209259  |      0.5      |         0.00318814  |               0.0060466   |\n",
            "| max   |           0.0699115   |               0.0627037   |   0.676512 |               0.0566049   |           0.0591774   |      3.5      |         0.0165138   |               0.0665877   |\n"
          ]
        }
      ]
    }
  ]
}