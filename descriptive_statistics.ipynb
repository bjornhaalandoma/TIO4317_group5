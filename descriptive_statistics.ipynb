# Load the CSV files into DataFrames
df_aker_bp = pd.read_csv("financial_data/Aker_BP_weekly.csv")
df_brent_crude = pd.read_csv("financial_data/Brent_Crude_weekly.csv")
df_cpi_rate = pd.read_csv("financial_data/CPI_Rate_weekly.csv")
df_natural_gas = pd.read_csv("financial_data/Natural_Gas_Weekly.csv")
df_nok_usd = pd.read_csv("financial_data/NOK_USD_weekly.csv")
df_norwegian_policy_rate = pd.read_csv("financial_data/Norwegian_Policy_Rate_weekly.csv")
df_osebx = pd.read_csv("financial_data/OSEBX_weekly.csv")
df_us_treasury = pd.read_csv("financial_data/US_10Yr_Treasury_weekly.csv")

# Rename the conflicting columns (columns with the same names)
df_aker_bp = df_aker_bp.rename(columns={'Log_Returns': 'Log_Returns_Aker_BP'})
df_brent_crude = df_brent_crude.rename(columns={'Log_Returns': 'Log_Returns_Brent_Crude'})
df_natural_gas = df_natural_gas.rename(columns={'Log_Returns': 'Log_Returns_Natural_Gas'})
df_nok_usd = df_nok_usd.rename(columns={'Log_Returns': 'Log_Returns_NOK_USD'})
df_osebx = df_osebx.rename(columns={'Log_Returns': 'Log_Returns_OSEBX'})
df_us_treasury = df_us_treasury.rename(columns={'Log_Returns': 'Log_Returns_US_Treasury'})
df_cpi_rate = df_cpi_rate.rename(columns={'Rate': 'CPI_Rate'})
df_norwegian_policy_rate = df_norwegian_policy_rate.rename(columns={'Rate': 'Policy_Rate'})

# Merge all the dataframes on 'Date' 
df = df_aker_bp[['Date', 'Log_Returns_Aker_BP']] 
df = pd.merge(df, df_brent_crude[['Date', 'Log_Returns_Brent_Crude']], on='Date', how='inner')
df = pd.merge(df, df_cpi_rate[['Date', 'CPI_Rate']], on='Date', how='inner')
df = pd.merge(df, df_natural_gas[['Date', 'Log_Returns_Natural_Gas']], on='Date', how='inner')
df = pd.merge(df, df_nok_usd[['Date', 'Log_Returns_NOK_USD']], on='Date', how='inner')
df = pd.merge(df, df_norwegian_policy_rate[['Date', 'Policy_Rate']], on='Date', how='inner')
df = pd.merge(df, df_osebx[['Date', 'Log_Returns_OSEBX']], on='Date', how='inner')
df = pd.merge(df, df_us_treasury[['Date', 'Log_Returns_US_Treasury']], on='Date', how='inner')
